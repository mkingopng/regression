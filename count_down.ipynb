{
 "cells": [
  {
   "cell_type": "code",
   "execution_count": 30,
   "metadata": {
    "collapsed": true
   },
   "outputs": [],
   "source": [
    "from datetime import datetime"
   ]
  },
  {
   "cell_type": "code",
   "execution_count": 31,
   "outputs": [],
   "source": [
    "start = datetime.strptime('Mar 5 2022  08:00', '%b %d %Y %H:%M')  #\n",
    "quiz_1 = datetime.strptime('Mar 15 2023 16:00', '%b %d %Y %H:%M')  #\n",
    "quiz_2 = datetime.strptime('Mar 20 2023 16:00', '%b %d %Y %H:%M')  #\n",
    "quiz_3 = datetime.strptime('Mar 27 2023 16:00', '%b %d %Y %H:%M')  #\n",
    "quiz_4 = datetime.strptime('Apr 3 2023 16:00', '%b %d %Y %H:%M')  #\n",
    "quiz_5 = datetime.strptime('Mar 27 2023 16:00', '%b %d %Y %H:%M')  #\n",
    "quiz_6 = datetime.strptime('Apr 3 2023 16:00', '%b %d %Y %H:%M')  #\n",
    "project = datetime.strptime('Apr 20 2023 17:00', '%b %d %Y %H:%M')  #"
   ],
   "metadata": {
    "collapsed": false
   }
  },
  {
   "cell_type": "code",
   "execution_count": 32,
   "outputs": [],
   "source": [
    "nowdate = datetime.now()\n",
    "count_1 = int((quiz_1 - nowdate).total_seconds())\n",
    "count_2 = int((quiz_2 - nowdate).total_seconds())\n",
    "count_3 = int((quiz_3 - nowdate).total_seconds())\n",
    "count_4 = int((quiz_4 - nowdate).total_seconds())\n",
    "count_5 = int((quiz_5 - nowdate).total_seconds())\n",
    "count_6 = int((quiz_6 - nowdate).total_seconds())\n",
    "count_7 = int((project - nowdate).total_seconds())"
   ],
   "metadata": {
    "collapsed": false
   }
  },
  {
   "cell_type": "markdown",
   "source": [
    "# quiz 1: 12.5%"
   ],
   "metadata": {
    "collapsed": false
   }
  },
  {
   "cell_type": "code",
   "execution_count": 33,
   "outputs": [
    {
     "name": "stdout",
     "output_type": "stream",
     "text": [
      "6 days 19 hours 2 minutes 15 seconds until quiz 1 for neural networks\n"
     ]
    }
   ],
   "source": [
    "# todo: quiz_1\n",
    "days = count_1 // 86400\n",
    "hours = (count_1 - days * 86400) // 3600\n",
    "minutes = (count_1 - days * 86400 - hours * 3600) // 60\n",
    "seconds = count_1 - days * 86400 - hours * 3600 - minutes * 60\n",
    "print(f\"{days} days {hours} hours {minutes} minutes {seconds} seconds until quiz 1 for neural networks\")  #"
   ],
   "metadata": {
    "collapsed": false
   }
  },
  {
   "cell_type": "markdown",
   "source": [
    "# quiz 2: 12.5%"
   ],
   "metadata": {
    "collapsed": false
   }
  },
  {
   "cell_type": "code",
   "execution_count": 34,
   "outputs": [
    {
     "name": "stdout",
     "output_type": "stream",
     "text": [
      "11 days 19 hours 2 minutes 15 seconds until quiz 2 for regression\n"
     ]
    }
   ],
   "source": [
    "# todo: quiz 2\n",
    "days = count_2 // 86400\n",
    "hours = (count_2 - days * 86400) // 3600\n",
    "minutes = (count_2 - days * 86400 - hours * 3600) // 60\n",
    "seconds = count_2 - days * 86400 - hours * 3600 - minutes * 60\n",
    "print(f\"{days} days {hours} hours {minutes} minutes {seconds} seconds until quiz 2 for regression\")"
   ],
   "metadata": {
    "collapsed": false
   }
  },
  {
   "cell_type": "markdown",
   "source": [
    "# quiz 3: 15%"
   ],
   "metadata": {
    "collapsed": false
   }
  },
  {
   "cell_type": "code",
   "execution_count": 35,
   "outputs": [
    {
     "name": "stdout",
     "output_type": "stream",
     "text": [
      "18 days 19 hours 2 minutes 15 seconds until quiz 3 for regression\n"
     ]
    }
   ],
   "source": [
    "# todo: quiz 3\n",
    "days = count_3 // 86400\n",
    "hours = (count_3 - days * 86400) // 3600\n",
    "minutes = (count_3 - days * 86400 - hours * 3600) // 60\n",
    "seconds = count_3 - days * 86400 - hours * 3600 - minutes * 60\n",
    "print(f\"{days} days {hours} hours {minutes} minutes {seconds} seconds until quiz 3 for regression\")"
   ],
   "metadata": {
    "collapsed": false
   }
  },
  {
   "cell_type": "markdown",
   "source": [
    "# quiz 4: 15%"
   ],
   "metadata": {
    "collapsed": false
   }
  },
  {
   "cell_type": "code",
   "execution_count": 36,
   "outputs": [
    {
     "name": "stdout",
     "output_type": "stream",
     "text": [
      "25 days 19 hours 2 minutes 15 seconds until quiz 4 for regression\n"
     ]
    }
   ],
   "source": [
    "# todo: quiz 4\n",
    "days = count_4 // 86400\n",
    "hours = (count_4 - days * 86400) // 3600\n",
    "minutes = (count_4 - days * 86400 - hours * 3600) // 60\n",
    "seconds = count_4 - days * 86400 - hours * 3600 - minutes * 60\n",
    "print(f\"{days} days {hours} hours {minutes} minutes {seconds} seconds until quiz 4 for regression\")"
   ],
   "metadata": {
    "collapsed": false
   }
  },
  {
   "cell_type": "markdown",
   "source": [
    "# quiz 5: 15%"
   ],
   "metadata": {
    "collapsed": false
   }
  },
  {
   "cell_type": "code",
   "execution_count": 37,
   "outputs": [
    {
     "name": "stdout",
     "output_type": "stream",
     "text": [
      "18 days 19 hours 2 minutes 15 seconds until quiz 5 for regression\n"
     ]
    }
   ],
   "source": [
    "# todo: quiz 5\n",
    "days = count_5 // 86400\n",
    "hours = (count_5 - days * 86400) // 3600\n",
    "minutes = (count_5 - days * 86400 - hours * 3600) // 60\n",
    "seconds = count_5 - days * 86400 - hours * 3600 - minutes * 60\n",
    "print(f\"{days} days {hours} hours {minutes} minutes {seconds} seconds until quiz 5 for regression\")"
   ],
   "metadata": {
    "collapsed": false
   }
  },
  {
   "cell_type": "markdown",
   "source": [
    "# quiz 6: 15%"
   ],
   "metadata": {
    "collapsed": false
   }
  },
  {
   "cell_type": "code",
   "execution_count": 38,
   "outputs": [
    {
     "name": "stdout",
     "output_type": "stream",
     "text": [
      "25 days 19 hours 2 minutes 15 seconds until quiz 6 for regression\n"
     ]
    }
   ],
   "source": [
    "# todo: quiz 6\n",
    "days = count_6 // 86400\n",
    "hours = (count_6 - days * 86400) // 3600\n",
    "minutes = (count_6 - days * 86400 - hours * 3600) // 60\n",
    "seconds = count_6 - days * 86400 - hours * 3600 - minutes * 60\n",
    "print(f\"{days} days {hours} hours {minutes} minutes {seconds} seconds until quiz 6 for regression\")"
   ],
   "metadata": {
    "collapsed": false
   }
  },
  {
   "cell_type": "markdown",
   "source": [
    "# project: 15%"
   ],
   "metadata": {
    "collapsed": false
   }
  },
  {
   "cell_type": "code",
   "execution_count": 39,
   "outputs": [
    {
     "name": "stdout",
     "output_type": "stream",
     "text": [
      "42 days 20 hours 2 minutes 15 seconds until project for regression\n"
     ]
    }
   ],
   "source": [
    "# todo: project\n",
    "days = count_7 // 86400\n",
    "hours = (count_7 - days * 86400) // 3600\n",
    "minutes = (count_7 - days * 86400 - hours * 3600) // 60\n",
    "seconds = count_7 - days * 86400 - hours * 3600 - minutes * 60\n",
    "print(f\"{days} days {hours} hours {minutes} minutes {seconds} seconds until project for regression\")"
   ],
   "metadata": {
    "collapsed": false
   }
  }
 ],
 "metadata": {
  "kernelspec": {
   "display_name": "Python 3",
   "language": "python",
   "name": "python3"
  },
  "language_info": {
   "codemirror_mode": {
    "name": "ipython",
    "version": 2
   },
   "file_extension": ".py",
   "mimetype": "text/x-python",
   "name": "python",
   "nbconvert_exporter": "python",
   "pygments_lexer": "ipython2",
   "version": "2.7.6"
  }
 },
 "nbformat": 4,
 "nbformat_minor": 0
}
