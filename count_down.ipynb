{
 "cells": [
  {
   "cell_type": "code",
   "execution_count": 1,
   "metadata": {
    "collapsed": true,
    "ExecuteTime": {
     "end_time": "2024-01-30T02:17:49.014097878Z",
     "start_time": "2024-01-30T02:17:49.013727847Z"
    }
   },
   "outputs": [],
   "source": [
    "from datetime import datetime"
   ]
  },
  {
   "cell_type": "code",
   "execution_count": 2,
   "outputs": [],
   "source": [
    "start = datetime.strptime('Jan 8 2024 08:00', '%b %d %Y %H:%M')  #\n",
    "quiz_1 = datetime.strptime('Jan 22 2024 16:00', '%b %d %Y %H:%M')  # monday week 2\n",
    "quiz_2 = datetime.strptime('Feb 05 2024 16:00', '%b %d %Y %H:%M')  # monday week 4\n",
    "quiz_3 = datetime.strptime('Feb 5 2024 16:00', '%b %d %Y %H:%M')  # \n",
    "quiz_4 = datetime.strptime('Feb 29 2024 16:00', '%b %d %Y %H:%M')  #"
   ],
   "metadata": {
    "collapsed": false,
    "ExecuteTime": {
     "end_time": "2024-01-30T02:17:49.014359243Z",
     "start_time": "2024-01-30T02:17:49.013846512Z"
    }
   }
  },
  {
   "cell_type": "code",
   "execution_count": 3,
   "outputs": [],
   "source": [
    "nowdate = datetime.now()\n",
    "count_1 = int((quiz_1 - nowdate).total_seconds())\n",
    "count_2 = int((quiz_2 - nowdate).total_seconds())\n",
    "count_3 = int((quiz_3 - nowdate).total_seconds())\n",
    "count_4 = int((quiz_4 - nowdate).total_seconds())"
   ],
   "metadata": {
    "collapsed": false,
    "ExecuteTime": {
     "end_time": "2024-01-30T02:17:49.014552399Z",
     "start_time": "2024-01-30T02:17:49.013899111Z"
    }
   }
  },
  {
   "cell_type": "markdown",
   "source": [
    "# quiz 1: 10%"
   ],
   "metadata": {
    "collapsed": false
   }
  },
  {
   "cell_type": "code",
   "execution_count": 4,
   "outputs": [
    {
     "name": "stdout",
     "output_type": "stream",
     "text": [
      "-8 days 3 hours 42 minutes 12 seconds until quiz 1 for neural networks\n"
     ]
    }
   ],
   "source": [
    "days = count_1 // 86400\n",
    "hours = (count_1 - days * 86400) // 3600\n",
    "minutes = (count_1 - days * 86400 - hours * 3600) // 60\n",
    "seconds = count_1 - days * 86400 - hours * 3600 - minutes * 60\n",
    "print(f\"{days} days {hours} hours {minutes} minutes {seconds} seconds until quiz 1 for neural networks\")  #"
   ],
   "metadata": {
    "collapsed": false,
    "ExecuteTime": {
     "end_time": "2024-01-30T02:17:49.015001600Z",
     "start_time": "2024-01-30T02:17:49.013941702Z"
    }
   }
  },
  {
   "cell_type": "markdown",
   "source": [
    "# quiz 2: 25%"
   ],
   "metadata": {
    "collapsed": false
   }
  },
  {
   "cell_type": "code",
   "execution_count": 5,
   "outputs": [
    {
     "name": "stdout",
     "output_type": "stream",
     "text": [
      "6 days 3 hours 42 minutes 11 seconds until quiz 2 for regression\n"
     ]
    }
   ],
   "source": [
    "# todo: quiz 2\n",
    "days = count_2 // 86400\n",
    "hours = (count_2 - days * 86400) // 3600\n",
    "minutes = (count_2 - days * 86400 - hours * 3600) // 60\n",
    "seconds = count_2 - days * 86400 - hours * 3600 - minutes * 60\n",
    "print(f\"{days} days {hours} hours {minutes} minutes {seconds} seconds until quiz 2 for regression\")"
   ],
   "metadata": {
    "collapsed": false,
    "ExecuteTime": {
     "end_time": "2024-01-30T02:17:49.015213622Z",
     "start_time": "2024-01-30T02:17:49.014009861Z"
    }
   }
  },
  {
   "cell_type": "markdown",
   "source": [
    "# quiz 3: 25%"
   ],
   "metadata": {
    "collapsed": false
   }
  },
  {
   "cell_type": "code",
   "execution_count": 6,
   "outputs": [
    {
     "name": "stdout",
     "output_type": "stream",
     "text": [
      "6 days 3 hours 42 minutes 11 seconds until quiz 3 for regression\n"
     ]
    }
   ],
   "source": [
    "# todo: quiz 3\n",
    "days = count_3 // 86400\n",
    "hours = (count_3 - days * 86400) // 3600\n",
    "minutes = (count_3 - days * 86400 - hours * 3600) // 60\n",
    "seconds = count_3 - days * 86400 - hours * 3600 - minutes * 60\n",
    "print(f\"{days} days {hours} hours {minutes} minutes {seconds} seconds until quiz 3 for regression\")"
   ],
   "metadata": {
    "collapsed": false,
    "ExecuteTime": {
     "end_time": "2024-01-30T02:17:49.059915838Z",
     "start_time": "2024-01-30T02:17:49.059513235Z"
    }
   }
  },
  {
   "cell_type": "markdown",
   "source": [
    "# quiz 4: 40%"
   ],
   "metadata": {
    "collapsed": false
   }
  },
  {
   "cell_type": "code",
   "execution_count": 7,
   "outputs": [
    {
     "name": "stdout",
     "output_type": "stream",
     "text": [
      "30 days 3 hours 42 minutes 11 seconds until quiz 4 for regression\n"
     ]
    }
   ],
   "source": [
    "# todo: quiz 4\n",
    "days = count_4 // 86400\n",
    "hours = (count_4 - days * 86400) // 3600\n",
    "minutes = (count_4 - days * 86400 - hours * 3600) // 60\n",
    "seconds = count_4 - days * 86400 - hours * 3600 - minutes * 60\n",
    "print(f\"{days} days {hours} hours {minutes} minutes {seconds} seconds until quiz 4 for regression\")"
   ],
   "metadata": {
    "collapsed": false,
    "ExecuteTime": {
     "end_time": "2024-01-30T02:17:49.060166814Z",
     "start_time": "2024-01-30T02:17:49.059604458Z"
    }
   }
  }
 ],
 "metadata": {
  "kernelspec": {
   "display_name": "Python 3",
   "language": "python",
   "name": "python3"
  },
  "language_info": {
   "codemirror_mode": {
    "name": "ipython",
    "version": 2
   },
   "file_extension": ".py",
   "mimetype": "text/x-python",
   "name": "python",
   "nbconvert_exporter": "python",
   "pygments_lexer": "ipython2",
   "version": "2.7.6"
  }
 },
 "nbformat": 4,
 "nbformat_minor": 0
}
