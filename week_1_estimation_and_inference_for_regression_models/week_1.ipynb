{
 "cells": [
  {
   "cell_type": "markdown",
   "source": [
    "Pressure example"
   ],
   "metadata": {
    "collapsed": false
   },
   "id": "2732ef05d3c1f2e2"
  },
  {
   "cell_type": "code",
   "outputs": [],
   "source": [
    "pressure = [1051, 1337, 1389, 1921, 1942, 2322, 3629, 4006, 4012, 9711, 9806, 10205, 10396, 10861, 11026, 11214, 11362, 11604, 4063, 4921, 5445, 5620, 5817, 5905, 5956, 6068, 6121, 6473, 7501, 7886, 8108, 8546, 8666, 8831, 9106, 11608, 11745, 11762, 11895, 12044, 13520, 13670, 14110, 14496, 15395, 16179, 17092, 17568, 17568]"
   ],
   "metadata": {
    "collapsed": false
   },
   "id": "24ee75b5c7093048"
  },
  {
   "cell_type": "markdown",
   "source": [
    "The weibull distribution is commonly used for times to failure (or survival times).\n",
    "\n",
    "$$f(y | \\lambda, \\theta) = \\frac{\\lambda y^{\\lambda - 1}}{\\theta^{\\lambda}} \\text{exp} \\left[ - \\left(\\dfrac{y}{\\theta} \\right)^{\\lambda} \\right]$$\n",
    "\n",
    "where \n",
    "- $y > 0$ is the time to failure\n",
    "- $\\lambda$ is the shape parameter and \n",
    "- $\\theta$ is the scale parameter."
   ],
   "metadata": {
    "collapsed": false
   },
   "id": "9e6f5681246e83d"
  },
  {
   "cell_type": "code",
   "execution_count": 3,
   "id": "initial_id",
   "metadata": {
    "collapsed": true,
    "ExecuteTime": {
     "end_time": "2024-01-20T12:00:29.642088459Z",
     "start_time": "2024-01-20T12:00:29.516571963Z"
    }
   },
   "outputs": [
    {
     "data": {
      "text/plain": "                k\n             ⎛x⎞ \n     k - 1  -⎜─⎟ \n  ⎛x⎞        ⎝λ⎠ \nk⋅⎜─⎟     ⋅ℯ     \n  ⎝λ⎠            \n─────────────────\n        λ        ",
      "text/latex": "$\\displaystyle \\frac{k \\left(\\frac{x}{\\lambda}\\right)^{k - 1} e^{- \\left(\\frac{x}{\\lambda}\\right)^{k}}}{\\lambda}$"
     },
     "execution_count": 3,
     "metadata": {},
     "output_type": "execute_result"
    }
   ],
   "source": [
    "from sympy import symbols, exp, init_printing\n",
    "from sympy.stats import density, Weibull\n",
    "from IPython.display import display, Latex\n",
    "\n",
    "# Initialize pretty printing\n",
    "init_printing(use_latex='mathjax')\n",
    "\n",
    "# define the symbols\n",
    "x, lambda_, k = symbols('x lambda k', positive=True)\n",
    "\n",
    "# create a Weibull distribution object\n",
    "W = Weibull('W', lambda_, k)\n",
    "\n",
    "# get the probability density function\n",
    "weibull_pdf = density(W)(x)\n",
    "\n",
    "# Display the PDF in LaTeX\n",
    "weibull_pdf"
   ]
  },
  {
   "cell_type": "markdown",
   "source": [
    "the pdf of the weibull distribution can be rewritten as: \n",
    "$$f(y| \\lambda, \\theta) = \\exp \\left[ \\log \\lambda + ( \\lambda - 1 ) \\log y - \\lambda \\log \\theta - \\left(  \\dfrac{y}{\\theta} \\right)^{\\lambda} \\right]$$\n",
    "\n",
    "what does this mean? "
   ],
   "metadata": {
    "collapsed": false
   },
   "id": "d11acea6168518d6"
  },
  {
   "cell_type": "markdown",
   "source": [
    "the likelihood function"
   ],
   "metadata": {
    "collapsed": false
   },
   "id": "b1e1a8f4b39052d9"
  },
  {
   "cell_type": "markdown",
   "source": [
    "The Log likelihood"
   ],
   "metadata": {
    "collapsed": false
   },
   "id": "c8c9d7524436b07b"
  },
  {
   "cell_type": "markdown",
   "source": [
    "Estimation of the weibull parameters"
   ],
   "metadata": {
    "collapsed": false
   },
   "id": "c1015124204aeb92"
  },
  {
   "cell_type": "markdown",
   "source": [
    "The score function"
   ],
   "metadata": {
    "collapsed": false
   },
   "id": "34604b1b6b539bc3"
  },
  {
   "cell_type": "markdown",
   "source": [
    "Maximum likelihood estimator (MLE)"
   ],
   "metadata": {
    "collapsed": false
   },
   "id": "190687779c8e3e6a"
  }
 ],
 "metadata": {
  "kernelspec": {
   "display_name": "Python 3",
   "language": "python",
   "name": "python3"
  },
  "language_info": {
   "codemirror_mode": {
    "name": "ipython",
    "version": 2
   },
   "file_extension": ".py",
   "mimetype": "text/x-python",
   "name": "python",
   "nbconvert_exporter": "python",
   "pygments_lexer": "ipython2",
   "version": "2.7.6"
  }
 },
 "nbformat": 4,
 "nbformat_minor": 5
}
